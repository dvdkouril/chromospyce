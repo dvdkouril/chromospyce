{
 "cells": [
  {
   "cell_type": "markdown",
   "id": "98f46198-c8ed-4118-b360-0c0c6f3d8e08",
   "metadata": {},
   "source": [
    "# Minimal chromospyce example"
   ]
  },
  {
   "cell_type": "code",
   "execution_count": null,
   "id": "221ce5f9-3023-4b5a-9c07-51a7134ae59a",
   "metadata": {},
   "outputs": [],
   "source": [
    "import chromospyce\n",
    "import numpy as np\n",
    "\n",
    "BINS_NUM = 1000\n",
    "\n",
    "# Step 1: Generate random structure, returns a 2D numpy array:\n",
    "def make_random_3D_chromatin_structure(n):\n",
    "    position = np.array([0.0, 0.0, 0.0])\n",
    "    positions = [position.copy()]\n",
    "    for _ in range(n):\n",
    "        step = np.random.choice([-1.0, 0.0, 1.0], size=3)  # Randomly choose to move left, right, up, down, forward, or backward\n",
    "        position += step\n",
    "        positions.append(position.copy())\n",
    "    return np.array(positions)\n",
    "\n",
    "random_structure = make_random_3D_chromatin_structure(BINS_NUM)\n",
    "\n",
    "# Step 2: Display the structure in a chromospyce widget\n",
    "numbers = list(range(0, BINS_NUM+1))\n",
    "vc = {\n",
    "    \"color\": {\n",
    "        \"values\": numbers,\n",
    "        \"min\": 0,\n",
    "        \"max\": BINS_NUM,\n",
    "        \"colorScale\": \"Spectral\"\n",
    "    }, \n",
    "    \"scale\": 0.01, \n",
    "    \"links\": True, \n",
    "    \"mark\": \"sphere\"\n",
    "}\n",
    "chromospyce.Widget(random_structure, vc)"
   ]
  },
  {
   "cell_type": "code",
   "execution_count": null,
   "id": "89a41e79-b8b9-4f79-988a-64902635e300",
   "metadata": {},
   "outputs": [],
   "source": [
    "import pandas as pd\n",
    "\n",
    "# Generate completely random positions\n",
    "df = pd.DataFrame(np.random.rand(100,3), columns=list('xyz'))\n",
    "\n",
    "chromospyce.Widget(df, vc)"
   ]
  },
  {
   "cell_type": "code",
   "execution_count": null,
   "id": "8b3d2ac0-656b-498f-80fb-e0a498f6a876",
   "metadata": {},
   "outputs": [],
   "source": []
  }
 ],
 "metadata": {
  "kernelspec": {
   "display_name": "Python 3 (ipykernel)",
   "language": "python",
   "name": "python3"
  },
  "language_info": {
   "codemirror_mode": {
    "name": "ipython",
    "version": 3
   },
   "file_extension": ".py",
   "mimetype": "text/x-python",
   "name": "python",
   "nbconvert_exporter": "python",
   "pygments_lexer": "ipython3",
   "version": "3.11.9"
  }
 },
 "nbformat": 4,
 "nbformat_minor": 5
}
