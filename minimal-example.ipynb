{
 "cells": [
  {
   "cell_type": "markdown",
   "id": "98f46198-c8ed-4118-b360-0c0c6f3d8e08",
   "metadata": {},
   "source": [
    "# Minimal chromospyce example"
   ]
  },
  {
   "cell_type": "code",
   "execution_count": 13,
   "id": "b1c11a9e-3372-487b-95e9-b53d00c2aa68",
   "metadata": {},
   "outputs": [
    {
     "data": {
      "application/vnd.jupyter.widget-view+json": {
       "model_id": "6f61b088fd984f41b6deb13c625a28ae",
       "version_major": 2,
       "version_minor": 1
      },
      "text/plain": [
       "Widget(structure=b'\\xff\\xff\\xff\\xff\\xc8\\x00\\x00\\x00\\x10\\x00\\x00\\x00\\x00\\x00\\n\\x00\\x0c\\x00\\x06\\x00\\x05\\x00\\x08\\…"
      ]
     },
     "execution_count": 13,
     "metadata": {},
     "output_type": "execute_result"
    }
   ],
   "source": [
    "import random\n",
    "import chromospyce\n",
    "import numpy as np\n",
    "import pyarrow as pa\n",
    "\n",
    "BINS_NUM = 1000\n",
    "\n",
    "def make_random_3D_chromatin_structure(n):\n",
    "    position = np.array([0.0, 0.0, 0.0])\n",
    "    positions = [position.copy()]\n",
    "    x_arr = []\n",
    "    y_arr = []\n",
    "    z_arr = []\n",
    "    for _ in range(n):\n",
    "        step = np.random.choice([-1.0, 0.0, 1.0], size=3)  # Randomly choose to move left, right, up, down, forward, or backward\n",
    "        position += step\n",
    "        positions.append(position.copy())\n",
    "        x_arr.append(position[0])\n",
    "        y_arr.append(position[1])\n",
    "        z_arr.append(position[2])\n",
    "    return [x_arr, y_arr, z_arr]\n",
    "\n",
    "# Step 1: Generate random structure and convert from arrays to \n",
    "#         Apache Arrow table with 3 columns: 'x', 'y', 'z'\n",
    "random_structure = make_random_3D_chromatin_structure(BINS_NUM)\n",
    "table = pa.Table.from_arrays(random_structure, names=[\"x\", \"y\", \"z\"])\n",
    "\n",
    "# Convert the Table to bytes\n",
    "output_stream = pa.BufferOutputStream()\n",
    "with pa.ipc.RecordBatchStreamWriter(output_stream, table.schema) as writer:\n",
    "    writer.write_table(table)\n",
    "\n",
    "table_bytes = output_stream.getvalue().to_pybytes()\n",
    "\n",
    "# Step 2: Display the structure in a chromospyce widget\n",
    "numbers = list(range(1, BINS_NUM+1))\n",
    "vc = {\n",
    "    # \"color\": \"#6600ff\", \n",
    "    \"color\": {\n",
    "        \"values\": numbers,\n",
    "        \"min\": 1,\n",
    "        \"max\": BINS_NUM,\n",
    "        \"colorScale\": \"Spectral\"\n",
    "    }, \n",
    "    \"scale\": 0.01, \n",
    "    \"links\": True, \n",
    "    \"mark\": \"sphere\"\n",
    "}\n",
    "chromospyce.Widget(structure=table_bytes, viewconfig=vc)"
   ]
  },
  {
   "cell_type": "code",
   "execution_count": null,
   "id": "221ce5f9-3023-4b5a-9c07-51a7134ae59a",
   "metadata": {},
   "outputs": [],
   "source": []
  }
 ],
 "metadata": {
  "kernelspec": {
   "display_name": "Python 3 (ipykernel)",
   "language": "python",
   "name": "python3"
  },
  "language_info": {
   "codemirror_mode": {
    "name": "ipython",
    "version": 3
   },
   "file_extension": ".py",
   "mimetype": "text/x-python",
   "name": "python",
   "nbconvert_exporter": "python",
   "pygments_lexer": "ipython3",
   "version": "3.11.9"
  }
 },
 "nbformat": 4,
 "nbformat_minor": 5
}
