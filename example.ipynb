{
 "cells": [
  {
   "cell_type": "code",
   "execution_count": 104,
   "metadata": {},
   "outputs": [
    {
     "name": "stdout",
     "output_type": "stream",
     "text": [
      "The autoreload extension is already loaded. To reload it, use:\n",
      "  %reload_ext autoreload\n",
      "env: ANYWIDGET_HMR=1\n"
     ]
    }
   ],
   "source": [
    "%load_ext autoreload\n",
    "%autoreload 2\n",
    "%env ANYWIDGET_HMR=1"
   ]
  },
  {
   "cell_type": "code",
   "execution_count": 105,
   "metadata": {},
   "outputs": [],
   "source": [
    "import chromospyce\n",
    "import numpy as np"
   ]
  },
  {
   "cell_type": "code",
   "execution_count": 110,
   "metadata": {},
   "outputs": [],
   "source": [
    "import random\n",
    "\n",
    "def random_walk_3D(n_steps):\n",
    "    position = np.array([0.0, 0.0, 0.0])\n",
    "    positions = [position.copy()]\n",
    "    for _ in range(n_steps):\n",
    "        step = np.random.choice([-1.0, 0.0, 1.0], size=3)  # Randomly choose to move left, right, up, down, forward, or backward\n",
    "        position += step\n",
    "        positions.append(position.copy())\n",
    "    return positions\n"
   ]
  },
  {
   "cell_type": "code",
   "execution_count": 113,
   "metadata": {},
   "outputs": [
    {
     "data": {
      "application/vnd.jupyter.widget-view+json": {
       "model_id": "1f1d69249e88499e9ba038b0b5dcb75e",
       "version_major": 2,
       "version_minor": 0
      },
      "text/plain": [
       "Widget(structure_nparray=b'\\x00\\x00\\x00\\x00\\x00\\x00\\x00\\x00\\x00\\x00\\x00\\x00\\x00\\x00\\x00\\x00\\x00\\x00\\x00\\x00\\x0…"
      ]
     },
     "execution_count": 113,
     "metadata": {},
     "output_type": "execute_result"
    }
   ],
   "source": [
    "## Use case 1: Passing raw numpy array\n",
    "test_data = make_random_3D_chromatin_structure(n=100)\n",
    "# data = np.array(test_data)\n",
    "data = np.array(random_walk_3D(50))\n",
    "# print(data)\n",
    "\n",
    "chromospyce.Widget(structure_nparray=data.tobytes())"
   ]
  },
  {
   "cell_type": "code",
   "execution_count": 114,
   "metadata": {},
   "outputs": [
    {
     "data": {
      "application/vnd.jupyter.widget-view+json": {
       "model_id": "7305828fbb644bca95ff66b0f1275d75",
       "version_major": 2,
       "version_minor": 0
      },
      "text/plain": [
       "Widget(delimiter='\\t', structure_string='\\n6\\nsample = 0\\nCA\\t1.101124\\t0.547027\\t-2.299305\\nCA\\t-0.919687\\t1.…"
      ]
     },
     "execution_count": 114,
     "metadata": {},
     "output_type": "execute_result"
    }
   ],
   "source": [
    "## Use case 2: Passing XYZ string\n",
    "test_string = \"\"\"\n",
    "6\n",
    "sample = 0\n",
    "CA\t1.101124\t0.547027\t-2.299305\n",
    "CA\t-0.919687\t1.275041\t-3.201912\n",
    "CA\t-0.974526\t1.144577\t-4.491504\n",
    "CA\t-0.881394\t-0.011930\t-4.496625\n",
    "CA\t-0.455539\t-2.518781\t-2.500660\n",
    "CA\t-0.626368\t-2.086400\t-3.427676\n",
    "\"\"\"\n",
    "\n",
    "chromospyce.Widget(structure_string=test_string, delimiter=\"\\t\")"
   ]
  },
  {
   "cell_type": "code",
   "execution_count": 115,
   "metadata": {},
   "outputs": [
    {
     "data": {
      "application/vnd.jupyter.widget-view+json": {
       "model_id": "169390434c4849acafb1167b5eab0da8",
       "version_major": 2,
       "version_minor": 0
      },
      "text/plain": [
       "Widget(delimiter='\\t', structure_path=PosixPath('sample_data/test.xyz'))"
      ]
     },
     "execution_count": 115,
     "metadata": {},
     "output_type": "execute_result"
    }
   ],
   "source": [
    "## Use case 3: Passing XYZ file path\n",
    "import pathlib\n",
    "test_path = pathlib.Path(\"./sample_data/test.xyz\")\n",
    "\n",
    "chromospyce.Widget(structure_path=test_path, delimiter=\"\\t\")"
   ]
  },
  {
   "cell_type": "code",
   "execution_count": null,
   "metadata": {},
   "outputs": [],
   "source": []
  }
 ],
 "metadata": {
  "kernelspec": {
   "display_name": "Python 3 (ipykernel)",
   "language": "python",
   "name": "python3"
  },
  "language_info": {
   "codemirror_mode": {
    "name": "ipython",
    "version": 3
   },
   "file_extension": ".py",
   "mimetype": "text/x-python",
   "name": "python",
   "nbconvert_exporter": "python",
   "pygments_lexer": "ipython3",
   "version": "3.12.2"
  }
 },
 "nbformat": 4,
 "nbformat_minor": 4
}
