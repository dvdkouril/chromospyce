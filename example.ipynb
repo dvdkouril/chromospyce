{
 "cells": [
  {
   "cell_type": "code",
   "execution_count": 14,
   "metadata": {},
   "outputs": [
    {
     "name": "stdout",
     "output_type": "stream",
     "text": [
      "The autoreload extension is already loaded. To reload it, use:\n",
      "  %reload_ext autoreload\n",
      "env: ANYWIDGET_HMR=1\n"
     ]
    }
   ],
   "source": [
    "%load_ext autoreload\n",
    "%autoreload 2\n",
    "%env ANYWIDGET_HMR=1"
   ]
  },
  {
   "cell_type": "code",
   "execution_count": 15,
   "metadata": {},
   "outputs": [],
   "source": [
    "import chromospyce\n",
    "import numpy as np\n",
    "import pyarrow as pa"
   ]
  },
  {
   "cell_type": "markdown",
   "metadata": {},
   "source": [
    "## Loading a local Arrow file"
   ]
  },
  {
   "cell_type": "code",
   "execution_count": 46,
   "metadata": {},
   "outputs": [
    {
     "name": "stdout",
     "output_type": "stream",
     "text": [
      "pyarrow.Table\n",
      "x: double\n",
      "y: double\n",
      "z: double\n",
      "----\n",
      "x: [[-3.716,-3.936,-3.794,-3.975,-4.031,...,-3.999,-4.236,-4.128,-3.776,-3.497]]\n",
      "y: [[-8.507,-7.447,-7.968,-8.392,-8.722,...,-9.225,-8.597,-8.557,-9.107,-9.23]]\n",
      "z: [[6.673,6.287,6.625,6.478,6.064,...,9.478,9.792,9.767,9.29,9.532]]\n"
     ]
    }
   ],
   "source": [
    "# Loading from local arrow file\n",
    "with pa.memory_map('/Users/davidkouril/projects/chromospace/scripts/out/pdb.arrow', 'r') as source:\n",
    "# with pa.memory_map('/Users/davidkouril/projects/chromospace/scripts/out/test.arrow', 'r') as source:\n",
    "    table_local_file = pa.ipc.open_stream(source).read_all()\n",
    "    \n",
    "# arr = loaded_arrays[0]\n",
    "# print(f\"{arr[0]} .. {arr[-1]}\")\n",
    "print(table_local_file)"
   ]
  },
  {
   "cell_type": "code",
   "execution_count": 48,
   "metadata": {},
   "outputs": [
    {
     "data": {
      "application/vnd.jupyter.widget-view+json": {
       "model_id": "f9ded85c5bf14a408804f1d6db74a882",
       "version_major": 2,
       "version_minor": 1
      },
      "text/plain": [
       "Widget(structure=b'\\xff\\xff\\xff\\xff\\xc8\\x00\\x00\\x00\\x10\\x00\\x00\\x00\\x00\\x00\\n\\x00\\x0c\\x00\\x06\\x00\\x05\\x00\\x08\\…"
      ]
     },
     "execution_count": 48,
     "metadata": {},
     "output_type": "execute_result"
    }
   ],
   "source": [
    "# Make an Arrow Table from the x, y, z coordinate arrays\n",
    "# table = pa.Table.from_arrays(decons_data, names=[\"x\", \"y\", \"z\"])\n",
    "\n",
    "# Convert the Table to bytes\n",
    "output_stream = pa.BufferOutputStream()\n",
    "with pa.ipc.RecordBatchStreamWriter(output_stream, table_local_file.schema) as writer:\n",
    "    writer.write_table(table_local_file)\n",
    "\n",
    "# Get the bytes from the output stream\n",
    "table_bytes = output_stream.getvalue().to_pybytes()\n",
    "# Show the structure via chromospyce widget\n",
    "chromospyce.Widget(structure=table_bytes)"
   ]
  },
  {
   "cell_type": "markdown",
   "metadata": {},
   "source": [
    "## Passing a numpy array"
   ]
  },
  {
   "cell_type": "code",
   "execution_count": 16,
   "metadata": {},
   "outputs": [],
   "source": [
    "import random\n",
    "\n",
    "def make_random_3D_chromatin_structure(n):\n",
    "    position = np.array([0.0, 0.0, 0.0])\n",
    "    positions = [position.copy()]\n",
    "    for _ in range(n):\n",
    "        step = np.random.choice([-1.0, 0.0, 1.0], size=3)  # Randomly choose to move left, right, up, down, forward, or backward\n",
    "        position += step\n",
    "        positions.append(position.copy())\n",
    "    return positions\n",
    "\n",
    "def deconstruct_into_column_arrays(nparr):\n",
    "    x_arr = []\n",
    "    y_arr = []\n",
    "    z_arr = []\n",
    "    for row in nparr:\n",
    "        x_arr.append(row[0])\n",
    "        y_arr.append(row[1])\n",
    "        z_arr.append(row[2])\n",
    "        \n",
    "    return [x_arr, y_arr, z_arr]"
   ]
  },
  {
   "cell_type": "code",
   "execution_count": 17,
   "metadata": {
    "scrolled": true
   },
   "outputs": [],
   "source": [
    "## Use case 1: Passing raw numpy array\n",
    "test_data = make_random_3D_chromatin_structure(n=100)\n",
    "data = np.array(test_data)\n",
    "\n",
    "decons_data = deconstruct_into_column_arrays(data)\n",
    "# decons_data"
   ]
  },
  {
   "cell_type": "code",
   "execution_count": 18,
   "metadata": {
    "scrolled": true
   },
   "outputs": [],
   "source": [
    "# Make an Arrow Table from the x, y, z coordinate arrays\n",
    "table = pa.Table.from_arrays(decons_data, names=[\"x\", \"y\", \"z\"])\n",
    "\n",
    "# Convert the Table to bytes\n",
    "output_stream = pa.BufferOutputStream()\n",
    "with pa.ipc.RecordBatchStreamWriter(output_stream, table.schema) as writer:\n",
    "    writer.write_table(table)\n",
    "\n",
    "# Get the bytes from the output stream\n",
    "table_bytes = output_stream.getvalue().to_pybytes()\n",
    "# table_bytes"
   ]
  },
  {
   "cell_type": "code",
   "execution_count": 19,
   "metadata": {},
   "outputs": [
    {
     "data": {
      "application/vnd.jupyter.widget-view+json": {
       "model_id": "c89f8d0a6956485482c8f65abbfc5fd7",
       "version_major": 2,
       "version_minor": 1
      },
      "text/plain": [
       "Widget(structure=b'\\xff\\xff\\xff\\xff\\xc8\\x00\\x00\\x00\\x10\\x00\\x00\\x00\\x00\\x00\\n\\x00\\x0c\\x00\\x06\\x00\\x05\\x00\\x08\\…"
      ]
     },
     "execution_count": 19,
     "metadata": {},
     "output_type": "execute_result"
    }
   ],
   "source": [
    "# Show the structure via chromospyce widget\n",
    "chromospyce.Widget(structure=table_bytes)"
   ]
  },
  {
   "cell_type": "markdown",
   "metadata": {},
   "source": [
    "## Parsing an XYZ string"
   ]
  },
  {
   "cell_type": "code",
   "execution_count": 7,
   "metadata": {},
   "outputs": [
    {
     "data": {
      "application/vnd.jupyter.widget-view+json": {
       "model_id": "a1f02052f88043e69ceee3fcf4f85405",
       "version_major": 2,
       "version_minor": 1
      },
      "text/plain": [
       "Widget(structure=b\"\\xff\\xff\\xff\\xff\\xc8\\x00\\x00\\x00\\x10\\x00\\x00\\x00\\x00\\x00\\n\\x00\\x0c\\x00\\x06\\x00\\x05\\x00\\x08\\…"
      ]
     },
     "execution_count": 7,
     "metadata": {},
     "output_type": "execute_result"
    }
   ],
   "source": [
    "# ## Use case 2: Passing XYZ string\n",
    "test_string = \"\"\"6\n",
    "sample = 0\n",
    "CA\t1.101124\t0.547027\t-2.299305\n",
    "CA\t-0.919687\t1.275041\t-3.201912\n",
    "CA\t-0.974526\t1.144577\t-4.491504\n",
    "CA\t-0.881394\t-0.011930\t-4.496625\n",
    "CA\t-0.455539\t-2.518781\t-2.500660\n",
    "CA\t-0.626368\t-2.086400\t-3.427676\n",
    "\"\"\"\n",
    "\n",
    "def parseXYZ(content):\n",
    "    x_array = []\n",
    "    y_array = []\n",
    "    z_array = []\n",
    "    delimiter='\\t'\n",
    "    lines = content.splitlines()\n",
    "    # lines\n",
    "    lineNumber = 0\n",
    "    firstLine = lines[0]\n",
    "    lineNum = int(firstLine)\n",
    "    for line in lines:\n",
    "        if lineNumber < 2:\n",
    "            lineNumber = lineNumber + 1\n",
    "            continue\n",
    "        if lineNumber > lineNum:\n",
    "            break\n",
    "        lineNumber = lineNumber + 1\n",
    "        tokens = line.split(delimiter)\n",
    "        if len(tokens) < 4:\n",
    "            continue\n",
    "        \n",
    "        x = float(tokens[1])\n",
    "        y = float(tokens[2])\n",
    "        z = float(tokens[3])\n",
    "        x_array.append(x)\n",
    "        y_array.append(y)\n",
    "        z_array.append(z)\n",
    "\n",
    "    return [x_array, y_array, z_array]\n",
    "\n",
    "# x_array\n",
    "res = parseXYZ(test_string)\n",
    "x_array = res[0]\n",
    "y_array = res[1]\n",
    "z_array = res[2]\n",
    "# Make an Arrow Table from the x, y, z coordinate arrays\n",
    "table2 = pa.Table.from_arrays([x_array, y_array, z_array], names=[\"x\", \"y\", \"z\"])\n",
    "\n",
    "# Convert the Table to bytes\n",
    "output_stream2 = pa.BufferOutputStream()\n",
    "with pa.ipc.RecordBatchStreamWriter(output_stream2, table2.schema) as writer:\n",
    "    writer.write_table(table2)\n",
    "\n",
    "# Get the bytes from the output stream\n",
    "table2_bytes = output_stream2.getvalue().to_pybytes()\n",
    "\n",
    "# chromospyce.Widget(structure_string=test_string, delimiter=\"\\t\")\n",
    "chromospyce.Widget(structure=table2_bytes)"
   ]
  },
  {
   "cell_type": "code",
   "execution_count": 8,
   "metadata": {},
   "outputs": [
    {
     "data": {
      "application/vnd.jupyter.widget-view+json": {
       "model_id": "84f40a6e3aa7482d93176133cf47ecb3",
       "version_major": 2,
       "version_minor": 1
      },
      "text/plain": [
       "Widget(structure=b'\\xff\\xff\\xff\\xff\\xc8\\x00\\x00\\x00\\x10\\x00\\x00\\x00\\x00\\x00\\n\\x00\\x0c\\x00\\x06\\x00\\x05\\x00\\x08\\…"
      ]
     },
     "execution_count": 8,
     "metadata": {},
     "output_type": "execute_result"
    }
   ],
   "source": [
    "# ## Use case 3: Passing XYZ file path\n",
    "# import pathlib\n",
    "# test_path = pathlib.Path(\"./sample_data/test.xyz\")\n",
    "\n",
    "with open('./sample_data/test.xyz', 'r') as file:\n",
    "    content = file.read()\n",
    "    # print(content)\n",
    "    res = parseXYZ(content)\n",
    "    x_array = res[0]\n",
    "    y_array = res[1]\n",
    "    z_array = res[2]\n",
    "    # Make an Arrow Table from the x, y, z coordinate arrays\n",
    "    table3 = pa.Table.from_arrays([x_array, y_array, z_array], names=[\"x\", \"y\", \"z\"])\n",
    "    \n",
    "    # Convert the Table to bytes\n",
    "    output_stream3 = pa.BufferOutputStream()\n",
    "    with pa.ipc.RecordBatchStreamWriter(output_stream3, table3.schema) as writer:\n",
    "        writer.write_table(table3)\n",
    "    \n",
    "    # Get the bytes from the output stream\n",
    "    table3_bytes = output_stream3.getvalue().to_pybytes()\n",
    "    \n",
    "    # chromospyce.Widget(structure_string=test_string, delimiter=\"\\t\")\n",
    "    chromospyce.Widget(structure=table3_bytes)\n",
    "\n",
    "# chromospyce.Widget(structure_path=test_path, delimiter=\"\\t\")\n",
    "chromospyce.Widget(structure=table3_bytes)"
   ]
  },
  {
   "cell_type": "code",
   "execution_count": null,
   "metadata": {},
   "outputs": [],
   "source": []
  }
 ],
 "metadata": {
  "kernelspec": {
   "display_name": "Python 3 (ipykernel)",
   "language": "python",
   "name": "python3"
  },
  "language_info": {
   "codemirror_mode": {
    "name": "ipython",
    "version": 3
   },
   "file_extension": ".py",
   "mimetype": "text/x-python",
   "name": "python",
   "nbconvert_exporter": "python",
   "pygments_lexer": "ipython3",
   "version": "3.11.9"
  }
 },
 "nbformat": 4,
 "nbformat_minor": 4
}
